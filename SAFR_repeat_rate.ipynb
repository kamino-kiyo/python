{
 "cells": [
  {
   "cell_type": "code",
   "execution_count": 2,
   "id": "5abefb3d",
   "metadata": {},
   "outputs": [],
   "source": [
    "from pathlib import Path\n",
    "import shutil\n",
    "\n",
    "# -------------------------------------\n",
    "# 画像をPersonIDごとにフォルダ分けする\n",
    "\n",
    "# フォルダ指定（フォルダ名に_が入っているとバグるので注意）\n",
    "src_path = Path(\"./SAFRimage/\")\n",
    "\n",
    "# フォルダ内のファイル一覧を取得\n",
    "img_list = list(src_path.glob(\"*.png\"))\n",
    "\n",
    "# ファイルごとに以下の処理をやる\n",
    "for img in img_list:\n",
    "        \n",
    "    # ファイル名の文字列\n",
    "    img_str = img.as_posix()\n",
    "\n",
    "    # PersonIDを抽出\n",
    "    person_dir_str = img_str[0:img_str.find('_')]\n",
    "    person_id_str = person_dir_str[img_str.find('/')+1:]\n",
    "    \n",
    "    # PersonIDのフォルダを作る(既にあれば無視)\n",
    "    person_dir = Path(person_dir_str)\n",
    "    person_dir.mkdir(exist_ok=True)\n",
    "    \n",
    "    # 同じPersonIDの画像を全部フォルダ内に移動させる\n",
    "        # 枚数数えたいだけならフォルダ移動する必要ないかなと思ったけど、\n",
    "        # どんな画像が同一人物扱いされているかを後で見たいのでやる\n",
    "    shutil.move(img_str, person_dir)\n",
    "        \n",
    "# -------------------------------------\n",
    "# PersonIDごとの画像枚数をCSVに出力して保存する\n",
    "\n",
    "# PersonIDフォルダ一覧を取得\n",
    "dir_list = list(src_path.glob(\"*/\"))\n",
    "\n",
    "# CSVファイル作っておく（既にある場合は上書きしてしまう）\n",
    "csv_file = open(src_path.as_posix() + \"/count.csv\", 'w')\n",
    "\n",
    "# フォルダごと(=PersonIDごと)に以下の処理をやる\n",
    "for dir in dir_list:\n",
    "\n",
    "    # フォルダ内の画像枚数を取得\n",
    "    count = 0\n",
    "    person_img_list = list(dir.glob(\"*.png\"))\n",
    "    for person_img in person_img_list:\n",
    "        count += 1\n",
    "    \n",
    "    # フォルダ名末尾に画像枚数を付ける？？？（どちらでもいい）\n",
    "    \n",
    "    # CSVファイルにPersonIDと枚数を書き込む\n",
    "    csv_file.write(dir.as_posix() + \",\" + str(count) + \"\\n\")\n",
    "    \n",
    "csv_file.close()\n"
   ]
  },
  {
   "cell_type": "code",
   "execution_count": null,
   "id": "85082009",
   "metadata": {},
   "outputs": [],
   "source": []
  },
  {
   "cell_type": "code",
   "execution_count": null,
   "id": "aed540c0",
   "metadata": {},
   "outputs": [],
   "source": []
  },
  {
   "cell_type": "code",
   "execution_count": null,
   "id": "4a3a5ab5",
   "metadata": {},
   "outputs": [],
   "source": []
  }
 ],
 "metadata": {
  "kernelspec": {
   "display_name": "Python 3",
   "language": "python",
   "name": "python3"
  },
  "language_info": {
   "codemirror_mode": {
    "name": "ipython",
    "version": 3
   },
   "file_extension": ".py",
   "mimetype": "text/x-python",
   "name": "python",
   "nbconvert_exporter": "python",
   "pygments_lexer": "ipython3",
   "version": "3.6.8"
  }
 },
 "nbformat": 4,
 "nbformat_minor": 5
}
