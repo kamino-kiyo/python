{
 "cells": [
  {
   "cell_type": "code",
   "execution_count": 1,
   "id": "1a77d904",
   "metadata": {},
   "outputs": [
    {
     "name": "stdout",
     "output_type": "stream",
     "text": [
      "Found 233 images belonging to 2 classes.\n"
     ]
    }
   ],
   "source": [
    "# あとで顔検出など使いたくなる可能性あるので、最初からOpenCVでやる\n",
    "import cv2\n",
    "\n",
    "import tensorflow as tf\n",
    "from tensorflow import keras\n",
    "from keras import layers, models\n",
    "# from tensorflow.keras.models import Sequential\n",
    "# from tensorflow.keras.layers import Activation, Conv2, Dense, Dropout\n",
    "from tensorflow.keras.optimizers import Adagrad, Adam\n",
    "from tensorflow.keras.preprocessing.image import ImageDataGenerator\n",
    "from tensorflow.keras.utils import to_categorical\n",
    "\n",
    "import matplotlib.pyplot as plt\n",
    "import numpy as np\n",
    "import os\n",
    "import pandas as pd\n",
    "import scipy\n",
    "\n",
    "from PIL import Image\n",
    "\n",
    "\n",
    "# データを正方形にリサイズするときの辺の長さ\n",
    "square_length = 1080\n",
    "\n",
    "\n",
    "# ラベル付け(0春 1夏 2冬)\n",
    "# TODO: ? フォルダ名に数字入れておくとかのほうがいいかもしれない？\n",
    "# TODO: 3つ以上に増やす場合は、class_modeやlossをbinaryからcategricalに変える\n",
    "def get_label(value):\n",
    "    if value == \"Ariel\":\n",
    "        return 0\n",
    "    elif value == \"Other\":\n",
    "        return 1\n",
    "    \n",
    "# ラベル更新したら一緒に更新する\n",
    "def max_label():\n",
    "    return 2\n",
    "    \n",
    "\n",
    "# 画像の読み込み\n",
    "datagen = ImageDataGenerator(\n",
    "    rescale=1./255\n",
    "#     validation_split=0.1\n",
    "    )\n",
    "\n",
    "train_generator = datagen.flow_from_directory(\n",
    "    \"../image/train\",\n",
    "    target_size=(square_length, square_length),\n",
    "    class_mode='binary',\n",
    "    batch_size=32,\n",
    "    subset='training',\n",
    ")"
   ]
  },
  {
   "cell_type": "code",
   "execution_count": null,
   "id": "7f5af5f7",
   "metadata": {
    "scrolled": true
   },
   "outputs": [
    {
     "name": "stdout",
     "output_type": "stream",
     "text": [
      "Epoch 1/20\n",
      "1/1 [==============================] - 185s 185s/step - loss: 0.6890 - accuracy: 0.6250\n",
      "Epoch 2/20\n",
      "1/1 [==============================] - 171s 171s/step - loss: 337.7702 - accuracy: 0.7188\n",
      "Epoch 3/20\n",
      "1/1 [==============================] - 181s 181s/step - loss: 117.7887 - accuracy: 0.7188\n",
      "Epoch 4/20\n",
      "1/1 [==============================] - 190s 190s/step - loss: 3.9363 - accuracy: 0.7500\n",
      "Epoch 5/20\n",
      "1/1 [==============================] - 167s 167s/step - loss: 8.2980 - accuracy: 0.6875\n",
      "Epoch 6/20\n",
      "1/1 [==============================] - 162s 162s/step - loss: 4.4145 - accuracy: 0.6562\n",
      "Epoch 7/20\n",
      "1/1 [==============================] - 169s 169s/step - loss: 1.2923 - accuracy: 0.7500\n",
      "Epoch 8/20\n",
      "1/1 [==============================] - 39s 39s/step - loss: 10.2637 - accuracy: 0.8889\n",
      "Epoch 9/20\n",
      "1/1 [==============================] - 150s 150s/step - loss: 29.0153 - accuracy: 0.6562\n",
      "Epoch 10/20\n",
      "1/1 [==============================] - 38s 38s/step - loss: 2.3075 - accuracy: 0.6667\n",
      "Epoch 11/20\n",
      "1/1 [==============================] - 138s 138s/step - loss: 0.6955 - accuracy: 0.6875\n",
      "Epoch 12/20\n",
      "1/1 [==============================] - 153s 153s/step - loss: 0.6923 - accuracy: 0.5938\n",
      "Epoch 13/20\n",
      "1/1 [==============================] - 142s 142s/step - loss: 0.6929 - accuracy: 0.5938\n",
      "Epoch 14/20\n",
      "1/1 [==============================] - 144s 144s/step - loss: 0.6923 - accuracy: 0.8125\n",
      "Epoch 15/20\n",
      "1/1 [==============================] - 38s 38s/step - loss: 0.6921 - accuracy: 0.8889\n",
      "Epoch 16/20\n",
      "1/1 [==============================] - 142s 142s/step - loss: 0.6923 - accuracy: 0.7500\n",
      "Epoch 17/20\n",
      "1/1 [==============================] - 146s 146s/step - loss: 0.6927 - accuracy: 0.6250\n",
      "Epoch 18/20\n",
      "1/1 [==============================] - 147s 147s/step - loss: 0.6918 - accuracy: 0.7812\n",
      "Epoch 19/20\n"
     ]
    }
   ],
   "source": [
    "# モデルの構築\n",
    "model = keras.Sequential([\n",
    "    keras.layers.Conv2D(32, (8,8), activation=\"relu\"),\n",
    "    keras.layers.Conv2D(32, (8,8), activation=\"relu\"),\n",
    "    keras.layers.MaxPooling2D(pool_size=(4,4)),\n",
    "    keras.layers.Flatten(),\n",
    "    keras.layers.Dropout(0.2),\n",
    "    keras.layers.Dense(200, activation=\"relu\"),\n",
    "    keras.layers.Dropout(0.4),\n",
    "    keras.layers.Dense(1),\n",
    "    keras.layers.Activation(\"softmax\")\n",
    "])\n",
    "# memo: shapeで警告出るのは、keras.layers.reshape((...)),imput_shape=(...))を使えば良さそう\n",
    "\n",
    "\n",
    "# オプティマイザにAdamを使用\n",
    "opt = Adam(learning_rate=0.001)\n",
    "\n",
    "# # モデルをコンパイル\n",
    "model.compile(loss=\"binary_crossentropy\", optimizer=opt, metrics=[\"accuracy\"])\n",
    "# 学習を実行\n",
    "model.fit(train_generator, steps_per_epoch=1, epochs=20)\n",
    "print(model.summary())"
   ]
  },
  {
   "cell_type": "code",
   "execution_count": 6,
   "id": "37a66361",
   "metadata": {
    "scrolled": true
   },
   "outputs": [
    {
     "name": "stdout",
     "output_type": "stream",
     "text": [
      "label: 0 result: [1.]\n",
      "label: 0 result: [1.]\n",
      "label: 0 result: [1.]\n",
      "label: 0 result: [1.]\n",
      "label: 1 result: [1.]\n",
      "label: 1 result: [1.]\n",
      "label: 1 result: [1.]\n",
      "label: 1 result: [1.]\n",
      "seikai:  50.0 %\n"
     ]
    }
   ],
   "source": [
    "# テスト用ディレクトリの画像でチェック。正解率を表示する。\n",
    "total = 0.\n",
    "ok_count = 0.\n",
    "\n",
    "test_path = \"../image/test\"\n",
    "for dir in os.listdir(test_path):\n",
    "    if dir == \".DS_Store\":\n",
    "        continue\n",
    "\n",
    "    dir_path = test_path + \"/\" + dir\n",
    "    label = get_label(dir)\n",
    "\n",
    "    for file in os.listdir(dir_path):\n",
    "        if file != \".DS_Store\":\n",
    "            file_path = dir_path + \"/\" + file\n",
    "            image = np.array(Image.open(file_path).resize(size=(square_length, square_length)))\n",
    "            image = image.transpose(2, 0, 1)\n",
    "            image = image.reshape(image.shape[0] * image.shape[1] * image.shape[2], 1)\n",
    "            result = model.predict(np.array([image / 255.]))\n",
    "            print(\"label:\", label, \"result:\", result[0])\n",
    "\n",
    "            total += 1.\n",
    "\n",
    "            if label == result[0]:\n",
    "                ok_count += 1.\n",
    "\n",
    "print(\"seikai: \", ok_count / total * 100, \"%\")"
   ]
  }
 ],
 "metadata": {
  "kernelspec": {
   "display_name": "Python 3",
   "language": "python",
   "name": "python3"
  },
  "language_info": {
   "codemirror_mode": {
    "name": "ipython",
    "version": 3
   },
   "file_extension": ".py",
   "mimetype": "text/x-python",
   "name": "python",
   "nbconvert_exporter": "python",
   "pygments_lexer": "ipython3",
   "version": "3.6.8"
  }
 },
 "nbformat": 4,
 "nbformat_minor": 5
}
