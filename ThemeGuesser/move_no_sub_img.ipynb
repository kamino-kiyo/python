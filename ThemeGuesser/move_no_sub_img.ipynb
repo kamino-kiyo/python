{
 "cells": [
  {
   "cell_type": "code",
   "execution_count": null,
   "id": "0266564c",
   "metadata": {},
   "outputs": [],
   "source": [
    "# 被写体なしと思しき画像だけ隔離したい\n",
    "# 全部見るのは面倒なので一旦怪しいものだけ避けて後で目視で精査のため\n",
    "import cv2\n",
    "import glob\n",
    "import os\n",
    "import shutil\n",
    "# from PIL import Image\n",
    "\n",
    "src_dir = (r\"C:\\Users\\0FR115005\\TmpData\\Select_uz_trim\").replace(\"\\\\\", \"/\")\n",
    "dst_dir= (r\"C:\\Users\\0FR115005\\TmpData\\test\\sus_no_sub\").replace(\"\\\\\", \"/\")\n",
    "\n",
    "# 時間かかっても面倒なので画像サイズを目一杯縮小したい\n",
    "size = 32\n",
    "\n",
    "thresh_r = thresh_g = thresh_b = 10000\n",
    "\n",
    "for img_path in glob.glob(src_dir + \"/**/*.jpg\", recursive=True):\n",
    "    img = cv2.imread(img_path)\n",
    "    \n",
    "    # 平均値（ただのmean()だとRGBも平均した値が出てしまう）\n",
    "    ave_r = img.T[0].flatten().mean()\n",
    "    ave_g = img.T[1].flatten().mean()\n",
    "    ave_b = img.T[2].flatten().mean()\n",
    "    \n",
    "    # 縮小\n",
    "    resize = cv2.resize(img, dsize=(size, size))\n",
    "    \n",
    "    # 画素値と平均値の差が少ないなら怪しい（被写体がないかも）\n",
    "    # もうちょっと効率いい方法ありそう\n",
    "    diff_r = diff_g =  diff_b = 0\n",
    "    for r in resize.T[0].flatten():\n",
    "        diff_r += abs(r - ave_r)\n",
    "    for g in resize.T[1].flatten():\n",
    "        diff_g += abs(g - ave_g)\n",
    "    for b in resize.T[2].flatten():\n",
    "        diff_b += abs(b - ave_b)\n",
    "\n",
    "    # 怪しい画像は移動する\n",
    "    if diff_r < thresh_r  and diff_g < thresh_g and diff_b < thresh_b:\n",
    "        save_dir = os.path.dirname(img_path.replace(src_dir, dst_dir))\n",
    "        os.makedirs(save_dir, exist_ok=True)\n",
    "        shutil.move(img_path, save_dir)\n",
    "\n",
    "print(\"end\")"
   ]
  }
 ],
 "metadata": {
  "kernelspec": {
   "display_name": "Python 3",
   "language": "python",
   "name": "python3"
  },
  "language_info": {
   "codemirror_mode": {
    "name": "ipython",
    "version": 3
   },
   "file_extension": ".py",
   "mimetype": "text/x-python",
   "name": "python",
   "nbconvert_exporter": "python",
   "pygments_lexer": "ipython3",
   "version": "3.6.8"
  }
 },
 "nbformat": 4,
 "nbformat_minor": 5
}
