{
 "cells": [
  {
   "cell_type": "code",
   "execution_count": 1,
   "id": "2613efc9",
   "metadata": {},
   "outputs": [],
   "source": [
    "import tensorflow as tf\n",
    "from tensorflow import keras\n",
    "from keras import layers, models\n",
    "# from tensorflow.keras.models import Sequential\n",
    "# from tensorflow.keras.layers import Activation, Conv2, Dense, Dropout\n",
    "from tensorflow.keras.optimizers import Adagrad, Adam\n",
    "from tensorflow.keras.preprocessing.image import ImageDataGenerator\n",
    "from tensorflow.keras.utils import to_categorical\n",
    "import tensorflow_hub as hub\n",
    "\n",
    "import cv2\n",
    "import glob\n",
    "import matplotlib.pyplot as plt\n",
    "import numpy as np\n",
    "import os\n",
    "import pandas as pd\n",
    "import scipy\n",
    "\n",
    "from PIL import Image\n",
    "\n",
    "# ラベル付け(0春 1夏 2冬)\n",
    "from label import Label, SQUARE_LENGTH\n",
    "\n",
    "\n",
    "# 画像を置いてるパス\n",
    "image_path = \"../image/eye_dlib\""
   ]
  },
  {
   "cell_type": "code",
   "execution_count": 2,
   "id": "ad16124a",
   "metadata": {},
   "outputs": [
    {
     "name": "stdout",
     "output_type": "stream",
     "text": [
      "Found 17206 images belonging to 2 classes.\n"
     ]
    }
   ],
   "source": [
    "# 画像の読み込み\n",
    "datagen = ImageDataGenerator(\n",
    "    rescale=1./255\n",
    "#     validation_split=0.1\n",
    "    )\n",
    "\n",
    "train_generator = datagen.flow_from_directory(\n",
    "    image_path + \"/train\",\n",
    "    target_size=(SQUARE_LENGTH, SQUARE_LENGTH),\n",
    "    class_mode='binary',\n",
    "    batch_size=32,\n",
    "    subset='training',\n",
    ")"
   ]
  },
  {
   "cell_type": "code",
   "execution_count": null,
   "id": "75557a6e",
   "metadata": {
    "scrolled": true
   },
   "outputs": [
    {
     "name": "stdout",
     "output_type": "stream",
     "text": [
      "start\n"
     ]
    }
   ],
   "source": [
    "print(\"start\")\n",
    "\n",
    "# モデルの構築\n",
    "model = keras.Sequential([\n",
    "#     keras.layers.Conv2D(32, (8,8), activation=\"relu\"),\n",
    "#     keras.layers.Conv2D(32, (8,8), activation=\"relu\"),\n",
    "#     keras.layers.MaxPooling2D(pool_size=(4,4)),\n",
    "#     keras.layers.Flatten(),\n",
    "#     keras.layers.Dropout(0.2),\n",
    "#     keras.layers.Dense(200, activation=\"relu\"),\n",
    "#     keras.layers.Dropout(0.4),\n",
    "#     keras.layers.Dense(200, activation=\"relu\"),\n",
    "#     keras.layers.Dropout(0.4),\n",
    "#     keras.layers.Dense(1),\n",
    "#     keras.layers.Activation(\"softmax\")\n",
    "    hub.KerasLayer(\n",
    "        \"https://tfhub.dev/tensorflow/efficientnet/b4/feature-vector/1\",\n",
    "        trainable=False,\n",
    "    ),\n",
    "    keras.layers.Dense(1, activation=\"sigmoid\")\n",
    "])\n",
    "# memo: shapeで警告出るのは、keras.layers.reshape((...)),imput_shape=(...))を使えば良さそう\n",
    "\n",
    "# # モデルをコンパイル\n",
    "model.compile(loss=\"binary_crossentropy\", optimizer=Adam(learning_rate=0.001), metrics=[\"accuracy\"])\n",
    "# 学習を実行\n",
    "model.fit(train_generator, steps_per_epoch=1, epochs=30)\n",
    "print(model.summary())"
   ]
  },
  {
   "cell_type": "code",
   "execution_count": 3,
   "id": "6f4eaaea",
   "metadata": {
    "scrolled": true
   },
   "outputs": [
    {
     "name": "stdout",
     "output_type": "stream",
     "text": [
      "[0]label: 0 result: [[0.6749223]]\n",
      "[1]label: 0 result: [[0.69699407]]\n",
      "[2]label: 0 result: [[0.6565488]]\n",
      "[3]label: 0 result: [[0.5871938]]\n",
      "[4]label: 0 result: [[0.5205791]]\n",
      "[5]label: 0 result: [[0.6707914]]\n",
      "[6]label: 0 result: [[0.66173184]]\n",
      "[7]label: 0 result: [[0.5684778]]\n",
      "[8]label: 0 result: [[0.54242045]]\n",
      "[9]label: 0 result: [[0.56782067]]\n",
      "[10]label: 0 result: [[0.48480222]]\n",
      "[11]label: 0 result: [[0.6151486]]\n",
      "[12]label: 0 result: [[0.68694156]]\n",
      "[13]label: 0 result: [[0.70879275]]\n",
      "[14]label: 0 result: [[0.6513451]]\n",
      "[15]label: 0 result: [[0.5693022]]\n",
      "[16]label: 0 result: [[0.67531043]]\n",
      "[17]label: 0 result: [[0.48242638]]\n",
      "[18]label: 0 result: [[0.65325737]]\n",
      "[19]label: 0 result: [[0.48922375]]\n",
      "[20]label: 0 result: [[0.38711995]]\n",
      "seikai:  19.047619047619047 %\n"
     ]
    }
   ],
   "source": [
    "# テスト用ディレクトリの画像でチェック。正解率を表示する。\n",
    "total = 0.\n",
    "ok_count = 0.\n",
    "\n",
    "# あとで消す\n",
    "# 学習済みモデル\n",
    "MODEL_NAME = \"./model.h5\"\n",
    "\n",
    "# 学習済みモデルの読み込み\n",
    "model = models.load_model(MODEL_NAME, custom_objects={\"KerasLayer\": hub.KerasLayer})\n",
    "\n",
    "# test_path = image_path + \"/test\"\n",
    "test_path = \"D:/python/app_trim\"\n",
    "for dir in os.listdir(test_path):\n",
    "    if dir == \".DS_Store\":\n",
    "        continue\n",
    "\n",
    "    dir_path = test_path + \"/\" + dir\n",
    "    label = Label[dir].value\n",
    "\n",
    "    for file in os.listdir(dir_path):\n",
    "        if file != \".DS_Store\":\n",
    "            file_path = dir_path + \"/\" + file\n",
    "            image = np.array(Image.open(file_path).resize(size=(SQUARE_LENGTH, SQUARE_LENGTH)))\n",
    "#             image = image.transpose(2, 0, 1)\n",
    "#             image = image.reshape(image.shape[0] * image.shape[1] * image.shape[2], 1)\n",
    "            result = model.predict(np.array([image / 255.]))\n",
    "            print(\"[\" + str(int(total)) + \"]label:\", label, \"result:\", result)\n",
    "\n",
    "            total += 1.\n",
    "\n",
    "            if abs(label - result) < 0.5:\n",
    "                ok_count += 1.\n",
    "\n",
    "print(\"seikai: \", ok_count / total * 100, \"%\")"
   ]
  },
  {
   "cell_type": "code",
   "execution_count": 13,
   "id": "38310419",
   "metadata": {},
   "outputs": [
    {
     "ename": "AttributeError",
     "evalue": "module 'tensorflow._api.v2.saved_model' has no attribute 'simple_save'",
     "output_type": "error",
     "traceback": [
      "\u001b[1;31m---------------------------------------------------------------------------\u001b[0m",
      "\u001b[1;31mAttributeError\u001b[0m                            Traceback (most recent call last)",
      "\u001b[1;32m<ipython-input-13-c778ca1767f5>\u001b[0m in \u001b[0;36m<module>\u001b[1;34m\u001b[0m\n\u001b[1;32m----> 1\u001b[1;33m \u001b[0mtf\u001b[0m\u001b[1;33m.\u001b[0m\u001b[0msaved_model\u001b[0m\u001b[1;33m.\u001b[0m\u001b[0msimple_save\u001b[0m\u001b[1;33m(\u001b[0m\u001b[0msess\u001b[0m\u001b[1;33m,\u001b[0m \u001b[1;34m'./models'\u001b[0m\u001b[1;33m,\u001b[0m \u001b[0minputs\u001b[0m\u001b[1;33m=\u001b[0m\u001b[1;33m{\u001b[0m\u001b[1;34m\"input\"\u001b[0m\u001b[1;33m:\u001b[0m \u001b[0mx\u001b[0m\u001b[1;33m}\u001b[0m\u001b[1;33m,\u001b[0m \u001b[0moutputs\u001b[0m\u001b[1;33m=\u001b[0m\u001b[1;33m{\u001b[0m\u001b[1;34m\"output\"\u001b[0m\u001b[1;33m:\u001b[0m \u001b[0mout\u001b[0m\u001b[1;33m}\u001b[0m\u001b[1;33m)\u001b[0m\u001b[1;33m\u001b[0m\u001b[1;33m\u001b[0m\u001b[0m\n\u001b[0m",
      "\u001b[1;31mAttributeError\u001b[0m: module 'tensorflow._api.v2.saved_model' has no attribute 'simple_save'"
     ]
    }
   ],
   "source": [
    "#tf.saved_model.simple_save(sess, './models', inputs={\"input\": x}, outputs={\"output\": out})\n",
    "# model.saveでいいらしい"
   ]
  },
  {
   "cell_type": "code",
   "execution_count": 14,
   "id": "b303345a",
   "metadata": {},
   "outputs": [],
   "source": [
    "model.save(image_path + \"/model.h5\")"
   ]
  }
 ],
 "metadata": {
  "kernelspec": {
   "display_name": "Python 3",
   "language": "python",
   "name": "python3"
  },
  "language_info": {
   "codemirror_mode": {
    "name": "ipython",
    "version": 3
   },
   "file_extension": ".py",
   "mimetype": "text/x-python",
   "name": "python",
   "nbconvert_exporter": "python",
   "pygments_lexer": "ipython3",
   "version": "3.6.8"
  }
 },
 "nbformat": 4,
 "nbformat_minor": 5
}
