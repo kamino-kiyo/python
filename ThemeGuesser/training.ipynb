{
 "cells": [
  {
   "cell_type": "code",
   "execution_count": 12,
   "id": "2613efc9",
   "metadata": {},
   "outputs": [],
   "source": [
    "import tensorflow as tf\n",
    "from tensorflow import keras\n",
    "from keras import layers, models\n",
    "# from tensorflow.keras.models import Sequential\n",
    "# from tensorflow.keras.layers import Activation, Conv2, Dense, Dropout\n",
    "from tensorflow.keras.optimizers import Adagrad, Adam\n",
    "from tensorflow.keras.preprocessing.image import ImageDataGenerator\n",
    "from tensorflow.keras.utils import to_categorical\n",
    "import tensorflow_hub as hub\n",
    "\n",
    "import cv2\n",
    "import glob\n",
    "import matplotlib.pyplot as plt\n",
    "import numpy as np\n",
    "import os\n",
    "import pandas as pd\n",
    "import scipy\n",
    "\n",
    "from PIL import Image\n",
    "\n",
    "\n",
    "# データを正方形にリサイズするときの辺の長さ\n",
    "square_length = 64\n",
    "\n",
    "# 画像を置いてるパス\n",
    "image_path = \"../image/eye_dlib\"\n",
    "\n",
    "# ラベル付け(0春 1夏 2冬)\n",
    "# TODO: ? フォルダ名に数字入れておくとかのほうがいいかもしれない？\n",
    "# TODO: 3つ以上に増やす場合は、class_modeやlossをbinaryからcategricalに変える\n",
    "def get_label(value):\n",
    "    if value == \"Ariel\":\n",
    "        return 0\n",
    "    elif value == \"Other\":\n",
    "        return 1\n",
    "    \n",
    "# ラベル更新したら一緒に更新する\n",
    "def max_label():\n",
    "    return 2"
   ]
  },
  {
   "cell_type": "code",
   "execution_count": 13,
   "id": "ad16124a",
   "metadata": {},
   "outputs": [
    {
     "name": "stdout",
     "output_type": "stream",
     "text": [
      "Found 17206 images belonging to 2 classes.\n"
     ]
    }
   ],
   "source": [
    "# 画像の読み込み\n",
    "datagen = ImageDataGenerator(\n",
    "    rescale=1./255\n",
    "#     validation_split=0.1\n",
    "    )\n",
    "\n",
    "train_generator = datagen.flow_from_directory(\n",
    "    image_path + \"/train\",\n",
    "    target_size=(square_length, square_length),\n",
    "    class_mode='binary',\n",
    "    batch_size=32,\n",
    "    subset='training',\n",
    ")"
   ]
  },
  {
   "cell_type": "code",
   "execution_count": 18,
   "id": "75557a6e",
   "metadata": {
    "scrolled": true
   },
   "outputs": [
    {
     "name": "stdout",
     "output_type": "stream",
     "text": [
      "start\n",
      "Epoch 1/30\n",
      "1/1 [==============================] - 18s 18s/step - loss: 0.7293 - accuracy: 0.4062\n",
      "Epoch 2/30\n",
      "1/1 [==============================] - 1s 678ms/step - loss: 0.6657 - accuracy: 0.5938\n",
      "Epoch 3/30\n",
      "1/1 [==============================] - 1s 827ms/step - loss: 0.6735 - accuracy: 0.5625\n",
      "Epoch 4/30\n",
      "1/1 [==============================] - 1s 601ms/step - loss: 0.6912 - accuracy: 0.5625\n",
      "Epoch 5/30\n",
      "1/1 [==============================] - 1s 558ms/step - loss: 0.6925 - accuracy: 0.5000\n",
      "Epoch 6/30\n",
      "1/1 [==============================] - 1s 572ms/step - loss: 0.7028 - accuracy: 0.4062\n",
      "Epoch 7/30\n",
      "1/1 [==============================] - 1s 579ms/step - loss: 0.7024 - accuracy: 0.4062\n",
      "Epoch 8/30\n",
      "1/1 [==============================] - 1s 566ms/step - loss: 0.6959 - accuracy: 0.4688\n",
      "Epoch 9/30\n",
      "1/1 [==============================] - 1s 631ms/step - loss: 0.6475 - accuracy: 0.6562\n",
      "Epoch 10/30\n",
      "1/1 [==============================] - 1s 619ms/step - loss: 0.6570 - accuracy: 0.5938\n",
      "Epoch 11/30\n",
      "1/1 [==============================] - 1s 587ms/step - loss: 0.6529 - accuracy: 0.6562\n",
      "Epoch 12/30\n",
      "1/1 [==============================] - 1s 670ms/step - loss: 0.6355 - accuracy: 0.6875\n",
      "Epoch 13/30\n",
      "1/1 [==============================] - 1s 594ms/step - loss: 0.5875 - accuracy: 0.6875\n",
      "Epoch 14/30\n",
      "1/1 [==============================] - 1s 707ms/step - loss: 0.6910 - accuracy: 0.4375\n",
      "Epoch 15/30\n",
      "1/1 [==============================] - 1s 574ms/step - loss: 0.6183 - accuracy: 0.5938\n",
      "Epoch 16/30\n",
      "1/1 [==============================] - 1s 575ms/step - loss: 0.6456 - accuracy: 0.5312\n",
      "Epoch 17/30\n",
      "1/1 [==============================] - 1s 559ms/step - loss: 0.6270 - accuracy: 0.5625\n",
      "Epoch 18/30\n",
      "1/1 [==============================] - 1s 569ms/step - loss: 0.5966 - accuracy: 0.6875\n",
      "Epoch 19/30\n",
      "1/1 [==============================] - 1s 661ms/step - loss: 0.6268 - accuracy: 0.7188\n",
      "Epoch 20/30\n",
      "1/1 [==============================] - 1s 669ms/step - loss: 0.5929 - accuracy: 0.7500\n",
      "Epoch 21/30\n",
      "1/1 [==============================] - 1s 634ms/step - loss: 0.6153 - accuracy: 0.8125\n",
      "Epoch 22/30\n",
      "1/1 [==============================] - 1s 609ms/step - loss: 0.5659 - accuracy: 0.8125\n",
      "Epoch 23/30\n",
      "1/1 [==============================] - 1s 597ms/step - loss: 0.6304 - accuracy: 0.8125\n",
      "Epoch 24/30\n",
      "1/1 [==============================] - 1s 800ms/step - loss: 0.5964 - accuracy: 0.9062\n",
      "Epoch 25/30\n",
      "1/1 [==============================] - 1s 554ms/step - loss: 0.6066 - accuracy: 0.8750\n",
      "Epoch 26/30\n",
      "1/1 [==============================] - 1s 533ms/step - loss: 0.5879 - accuracy: 0.9062\n",
      "Epoch 27/30\n",
      "1/1 [==============================] - 1s 572ms/step - loss: 0.5724 - accuracy: 0.8438\n",
      "Epoch 28/30\n",
      "1/1 [==============================] - 1s 533ms/step - loss: 0.5821 - accuracy: 0.7812\n",
      "Epoch 29/30\n",
      "1/1 [==============================] - 1s 663ms/step - loss: 0.5896 - accuracy: 0.8125\n",
      "Epoch 30/30\n",
      "1/1 [==============================] - 1s 616ms/step - loss: 0.5937 - accuracy: 0.7812\n",
      "Model: \"sequential_3\"\n",
      "_________________________________________________________________\n",
      "Layer (type)                 Output Shape              Param #   \n",
      "=================================================================\n",
      "keras_layer_3 (KerasLayer)   (None, 1792)              17673816  \n",
      "_________________________________________________________________\n",
      "dense_3 (Dense)              (None, 1)                 1793      \n",
      "=================================================================\n",
      "Total params: 17,675,609\n",
      "Trainable params: 1,793\n",
      "Non-trainable params: 17,673,816\n",
      "_________________________________________________________________\n",
      "None\n"
     ]
    }
   ],
   "source": [
    "print(\"start\")\n",
    "\n",
    "# モデルの構築\n",
    "model = keras.Sequential([\n",
    "#     keras.layers.Conv2D(32, (8,8), activation=\"relu\"),\n",
    "#     keras.layers.Conv2D(32, (8,8), activation=\"relu\"),\n",
    "#     keras.layers.MaxPooling2D(pool_size=(4,4)),\n",
    "#     keras.layers.Flatten(),\n",
    "#     keras.layers.Dropout(0.2),\n",
    "#     keras.layers.Dense(200, activation=\"relu\"),\n",
    "#     keras.layers.Dropout(0.4),\n",
    "#     keras.layers.Dense(200, activation=\"relu\"),\n",
    "#     keras.layers.Dropout(0.4),\n",
    "#     keras.layers.Dense(1),\n",
    "#     keras.layers.Activation(\"softmax\")\n",
    "    hub.KerasLayer(\n",
    "        \"https://tfhub.dev/tensorflow/efficientnet/b4/feature-vector/1\",\n",
    "        trainable=False,\n",
    "    ),\n",
    "    keras.layers.Dense(1, activation=\"sigmoid\")\n",
    "])\n",
    "# memo: shapeで警告出るのは、keras.layers.reshape((...)),imput_shape=(...))を使えば良さそう\n",
    "\n",
    "# # モデルをコンパイル\n",
    "model.compile(loss=\"binary_crossentropy\", optimizer=Adam(learning_rate=0.001), metrics=[\"accuracy\"])\n",
    "# 学習を実行\n",
    "model.fit(train_generator, steps_per_epoch=1, epochs=30)\n",
    "print(model.summary())"
   ]
  },
  {
   "cell_type": "code",
   "execution_count": 21,
   "id": "6f4eaaea",
   "metadata": {
    "scrolled": true
   },
   "outputs": [
    {
     "name": "stdout",
     "output_type": "stream",
     "text": [
      "[0]label: 0 result: [[0.44059673]]\n",
      "[1]label: 0 result: [[0.6008303]]\n",
      "[2]label: 0 result: [[0.44190586]]\n",
      "[3]label: 0 result: [[0.3900989]]\n",
      "[4]label: 0 result: [[0.39919227]]\n",
      "[5]label: 0 result: [[0.39628744]]\n",
      "[6]label: 0 result: [[0.366643]]\n",
      "[7]label: 0 result: [[0.4047255]]\n",
      "[8]label: 0 result: [[0.3978133]]\n",
      "[9]label: 0 result: [[0.506678]]\n",
      "[10]label: 0 result: [[0.35928857]]\n",
      "[11]label: 0 result: [[0.42420653]]\n",
      "[12]label: 0 result: [[0.37527177]]\n",
      "[13]label: 0 result: [[0.43883997]]\n",
      "[14]label: 0 result: [[0.5089568]]\n",
      "[15]label: 0 result: [[0.3924995]]\n",
      "[16]label: 1 result: [[0.5698696]]\n",
      "[17]label: 1 result: [[0.6470584]]\n",
      "[18]label: 1 result: [[0.6219007]]\n",
      "[19]label: 1 result: [[0.5589263]]\n",
      "[20]label: 1 result: [[0.4711591]]\n",
      "[21]label: 1 result: [[0.66509145]]\n",
      "[22]label: 1 result: [[0.49874684]]\n",
      "[23]label: 1 result: [[0.54446924]]\n",
      "[24]label: 1 result: [[0.5767686]]\n",
      "[25]label: 1 result: [[0.5646341]]\n",
      "[26]label: 1 result: [[0.46717182]]\n",
      "[27]label: 1 result: [[0.5831383]]\n",
      "[28]label: 1 result: [[0.6534506]]\n",
      "[29]label: 1 result: [[0.64724475]]\n",
      "[30]label: 1 result: [[0.5458833]]\n",
      "[31]label: 1 result: [[0.60281235]]\n",
      "seikai:  81.25 %\n"
     ]
    }
   ],
   "source": [
    "# テスト用ディレクトリの画像でチェック。正解率を表示する。\n",
    "total = 0.\n",
    "ok_count = 0.\n",
    "\n",
    "test_path = image_path + \"/test\"\n",
    "for dir in os.listdir(test_path):\n",
    "    if dir == \".DS_Store\":\n",
    "        continue\n",
    "\n",
    "    dir_path = test_path + \"/\" + dir\n",
    "    label = get_label(dir)\n",
    "\n",
    "    for file in os.listdir(dir_path):\n",
    "        if file != \".DS_Store\":\n",
    "            file_path = dir_path + \"/\" + file\n",
    "            image = np.array(Image.open(file_path).resize(size=(square_length, square_length)))\n",
    "#             image = image.transpose(2, 0, 1)\n",
    "#             image = image.reshape(image.shape[0] * image.shape[1] * image.shape[2], 1)\n",
    "            result = model.predict(np.array([image / 255.]))\n",
    "            print(\"[\" + str(int(total)) + \"]label:\", label, \"result:\", result)\n",
    "\n",
    "            total += 1.\n",
    "\n",
    "            if abs(label - result) < 0.5:\n",
    "                ok_count += 1.\n",
    "\n",
    "print(\"seikai: \", ok_count / total * 100, \"%\")"
   ]
  },
  {
   "cell_type": "code",
   "execution_count": 19,
   "id": "38310419",
   "metadata": {},
   "outputs": [
    {
     "name": "stdout",
     "output_type": "stream",
     "text": [
      "INFO:tensorflow:Assets written to: ../image/eye_dlib/model\\assets\n"
     ]
    },
    {
     "name": "stderr",
     "output_type": "stream",
     "text": [
      "INFO:tensorflow:Assets written to: ../image/eye_dlib/model\\assets\n"
     ]
    },
    {
     "name": "stdout",
     "output_type": "stream",
     "text": [
      "end\n"
     ]
    }
   ],
   "source": [
    "model.save(image_path + '/model')"
   ]
  },
  {
   "cell_type": "code",
   "execution_count": 20,
   "id": "b303345a",
   "metadata": {},
   "outputs": [],
   "source": [
    "model.save(image_path + \"/model.h5\")"
   ]
  }
 ],
 "metadata": {
  "kernelspec": {
   "display_name": "Python 3",
   "language": "python",
   "name": "python3"
  },
  "language_info": {
   "codemirror_mode": {
    "name": "ipython",
    "version": 3
   },
   "file_extension": ".py",
   "mimetype": "text/x-python",
   "name": "python",
   "nbconvert_exporter": "python",
   "pygments_lexer": "ipython3",
   "version": "3.6.8"
  }
 },
 "nbformat": 4,
 "nbformat_minor": 5
}
