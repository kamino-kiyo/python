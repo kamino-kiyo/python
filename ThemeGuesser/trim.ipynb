{
 "cells": [
  {
   "cell_type": "code",
   "execution_count": 1,
   "id": "78acad84",
   "metadata": {},
   "outputs": [
    {
     "name": "stdout",
     "output_type": "stream",
     "text": [
      "--------------------------------\n",
      "D:/python/Image/test/eye_dlib/test/Ariel/20200206-134540_MobileL7_100000000_0.00_0.00_C249-SET-000-XXX_225_0.bmp\n",
      "('D:/python/Image/test/eye_dlib/test/Ariel/20200206-134540_MobileL7_100000000_0.00_0.00_C249-SET-000-XXX_225_0', '.bmp')\n",
      "--------------------------------\n",
      "D:/python/Image/test/eye_dlib/test/Ariel/20200206-134540_MobileL7_100000000_0.00_0.00_C249-SET-000-XXX_225_1.bmp\n",
      "('D:/python/Image/test/eye_dlib/test/Ariel/20200206-134540_MobileL7_100000000_0.00_0.00_C249-SET-000-XXX_225_1', '.bmp')\n",
      "--------------------------------\n",
      "D:/python/Image/test/eye_dlib/test/Ariel/20200206-134540_MobileL7_100000000_0.00_0.00_C249-SET-000-XXX_225_2.bmp\n",
      "('D:/python/Image/test/eye_dlib/test/Ariel/20200206-134540_MobileL7_100000000_0.00_0.00_C249-SET-000-XXX_225_2', '.bmp')\n",
      "--------------------------------\n",
      "D:/python/Image/test/eye_dlib/test/Ariel/20200206-134540_MobileL7_100000000_0.00_0.00_C249-SET-000-XXX_225_3.bmp\n",
      "('D:/python/Image/test/eye_dlib/test/Ariel/20200206-134540_MobileL7_100000000_0.00_0.00_C249-SET-000-XXX_225_3', '.bmp')\n"
     ]
    },
    {
     "ename": "KeyboardInterrupt",
     "evalue": "",
     "output_type": "error",
     "traceback": [
      "\u001b[1;31m---------------------------------------------------------------------------\u001b[0m",
      "\u001b[1;31mKeyboardInterrupt\u001b[0m                         Traceback (most recent call last)",
      "\u001b[1;32m<ipython-input-1-7815e0ead408>\u001b[0m in \u001b[0;36m<module>\u001b[1;34m\u001b[0m\n\u001b[1;32m----> 1\u001b[1;33m \u001b[1;32mimport\u001b[0m \u001b[0mtrim\u001b[0m\u001b[1;33m\u001b[0m\u001b[1;33m\u001b[0m\u001b[0m\n\u001b[0m\u001b[0;32m      2\u001b[0m \u001b[1;33m\u001b[0m\u001b[0m\n\u001b[0;32m      3\u001b[0m \u001b[1;31m# 画像全部見る\u001b[0m\u001b[1;33m\u001b[0m\u001b[1;33m\u001b[0m\u001b[1;33m\u001b[0m\u001b[0m\n\u001b[0;32m      4\u001b[0m \u001b[1;32mfor\u001b[0m \u001b[0mfile\u001b[0m \u001b[1;32min\u001b[0m \u001b[0mglob\u001b[0m\u001b[1;33m.\u001b[0m\u001b[0mglob\u001b[0m\u001b[1;33m(\u001b[0m\u001b[0msrc_dir\u001b[0m \u001b[1;33m+\u001b[0m \u001b[1;34m\"/**/*\"\u001b[0m\u001b[1;33m,\u001b[0m \u001b[0mrecursive\u001b[0m\u001b[1;33m=\u001b[0m\u001b[1;32mTrue\u001b[0m\u001b[1;33m)\u001b[0m\u001b[1;33m:\u001b[0m\u001b[1;33m\u001b[0m\u001b[1;33m\u001b[0m\u001b[0m\n\u001b[0;32m      5\u001b[0m     \u001b[1;32mif\u001b[0m \u001b[0mos\u001b[0m\u001b[1;33m.\u001b[0m\u001b[0mpath\u001b[0m\u001b[1;33m.\u001b[0m\u001b[0msplitext\u001b[0m\u001b[1;33m(\u001b[0m\u001b[0mfile\u001b[0m\u001b[1;33m)\u001b[0m\u001b[1;33m[\u001b[0m\u001b[1;36m1\u001b[0m\u001b[1;33m]\u001b[0m \u001b[1;32min\u001b[0m \u001b[1;33m[\u001b[0m\u001b[1;34m\".jpg\"\u001b[0m\u001b[1;33m,\u001b[0m \u001b[1;34m\".png\"\u001b[0m\u001b[1;33m,\u001b[0m \u001b[1;34m\".bmp\"\u001b[0m\u001b[1;33m]\u001b[0m\u001b[1;33m:\u001b[0m\u001b[1;33m\u001b[0m\u001b[1;33m\u001b[0m\u001b[0m\n",
      "\u001b[1;32mD:\\python\\ThemeGuesser\\trim.py\u001b[0m in \u001b[0;36m<module>\u001b[1;34m\u001b[0m\n\u001b[0;32m    128\u001b[0m         \u001b[0meye_count\u001b[0m \u001b[1;33m=\u001b[0m \u001b[1;36m0\u001b[0m\u001b[1;33m\u001b[0m\u001b[1;33m\u001b[0m\u001b[0m\n\u001b[0;32m    129\u001b[0m         \u001b[1;31m# この中で顔検出ツール呼び出しやってるの無駄だけど一旦気付かなかったフリをする（TODO: ？）\u001b[0m\u001b[1;33m\u001b[0m\u001b[1;33m\u001b[0m\u001b[1;33m\u001b[0m\u001b[0m\n\u001b[1;32m--> 130\u001b[1;33m         \u001b[0meyes\u001b[0m \u001b[1;33m=\u001b[0m \u001b[0mtrim_all_eyes\u001b[0m\u001b[1;33m(\u001b[0m\u001b[0msrc\u001b[0m\u001b[1;33m)\u001b[0m\u001b[1;33m\u001b[0m\u001b[1;33m\u001b[0m\u001b[0m\n\u001b[0m\u001b[0;32m    131\u001b[0m         \u001b[1;32mfor\u001b[0m \u001b[0meye\u001b[0m \u001b[1;32min\u001b[0m \u001b[0meyes\u001b[0m\u001b[1;33m:\u001b[0m\u001b[1;33m\u001b[0m\u001b[1;33m\u001b[0m\u001b[0m\n\u001b[0;32m    132\u001b[0m             \u001b[1;31m# 保存\u001b[0m\u001b[1;33m\u001b[0m\u001b[1;33m\u001b[0m\u001b[1;33m\u001b[0m\u001b[0m\n",
      "\u001b[1;32mD:\\python\\ThemeGuesser\\trim.py\u001b[0m in \u001b[0;36mtrim_all_eyes\u001b[1;34m(src)\u001b[0m\n\u001b[0;32m     74\u001b[0m     \u001b[1;31m# 顔のランドマーク検出ツールの呼び出し\u001b[0m\u001b[1;33m\u001b[0m\u001b[1;33m\u001b[0m\u001b[1;33m\u001b[0m\u001b[0m\n\u001b[0;32m     75\u001b[0m     \u001b[0mpredictor_path\u001b[0m \u001b[1;33m=\u001b[0m \u001b[1;34m'../dlib/shape_predictor_68_face_landmarks.dat'\u001b[0m\u001b[1;33m\u001b[0m\u001b[1;33m\u001b[0m\u001b[0m\n\u001b[1;32m---> 76\u001b[1;33m     \u001b[0mface_predictor\u001b[0m \u001b[1;33m=\u001b[0m \u001b[0mdlib\u001b[0m\u001b[1;33m.\u001b[0m\u001b[0mshape_predictor\u001b[0m\u001b[1;33m(\u001b[0m\u001b[0mpredictor_path\u001b[0m\u001b[1;33m)\u001b[0m\u001b[1;33m\u001b[0m\u001b[1;33m\u001b[0m\u001b[0m\n\u001b[0m\u001b[0;32m     77\u001b[0m \u001b[1;33m\u001b[0m\u001b[0m\n\u001b[0;32m     78\u001b[0m     \u001b[1;31m# 処理高速化のためグレースケール化(任意)\u001b[0m\u001b[1;33m\u001b[0m\u001b[1;33m\u001b[0m\u001b[1;33m\u001b[0m\u001b[0m\n",
      "\u001b[1;31mKeyboardInterrupt\u001b[0m: "
     ]
    }
   ],
   "source": [
    "import trim\n",
    "\n",
    "# 画像全部見る\n",
    "for file in glob.glob(src_dir + \"/**/*\", recursive=True):\n",
    "    if os.path.splitext(file)[1] in [\".jpg\", \".png\", \".bmp\"]:\n",
    "        print(\"--------------------------------\")\n",
    "        \n",
    "        # cv2.imreadが日本語ファイル名に対応していないので、一旦Pillowで読み込んでから変換する\n",
    "        # https://qiita.com/derodero24/items/f22c22b22451609908ee\n",
    "        src = np.array(Image.open(file), dtype=np.uint8)\n",
    "        if src.ndim == 2:  # モノクロ\n",
    "            pass\n",
    "        elif src.shape[2] == 3:  # カラー\n",
    "            src = cv2.cvtColor(src, cv2.COLOR_RGB2BGR)\n",
    "        elif src.shape[2] == 4:  # 透過\n",
    "            src = cv2.cvtColor(src, cv2.COLOR_RGBA2BGRA)       \n",
    "\n",
    "        # 保存先パス周りの整備(フォルダなかったら作る)\n",
    "        dst_path = dst_dir + file.replace(os.sep,\"/\").replace(src_dir,\"\")\n",
    "        print(dst_path)\n",
    "        os.makedirs(os.path.dirname(dst_path), exist_ok=True)\n",
    "        split_dst_path = os.path.splitext(dst_path)\n",
    "        print(split_dst_path)\n",
    "        \n",
    "        # 目をトリミングして保存\n",
    "        eye_count = 0\n",
    "        # この中で顔検出ツール呼び出しやってるの無駄だけど一旦気付かなかったフリをする（TODO: ？）\n",
    "        eyes = trim_all_eyes(src)\n",
    "        for eye in eyes:\n",
    "            # 保存\n",
    "            # TODO: (放置でもいいかも)日本語だけは文字化けするので元々のファイル名を維持できない\n",
    "            each_dst_path = split_dst_path[0] + \"_\" + str(eye_count) + split_dst_path[1]\n",
    "            cv2.imwrite(each_dst_path, eye)\n",
    "            eye_count += 1\n",
    "            \n",
    "            print(each_dst_path)\n",
    "            \n",
    "print(\"end\")"
   ]
  }
 ],
 "metadata": {
  "kernelspec": {
   "display_name": "Python 3",
   "language": "python",
   "name": "python3"
  },
  "language_info": {
   "codemirror_mode": {
    "name": "ipython",
    "version": 3
   },
   "file_extension": ".py",
   "mimetype": "text/x-python",
   "name": "python",
   "nbconvert_exporter": "python",
   "pygments_lexer": "ipython3",
   "version": "3.6.8"
  }
 },
 "nbformat": 4,
 "nbformat_minor": 5
}
