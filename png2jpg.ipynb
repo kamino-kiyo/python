{
 "cells": [
  {
   "cell_type": "code",
   "execution_count": 6,
   "id": "ef7f3d1b",
   "metadata": {},
   "outputs": [
    {
     "name": "stdout",
     "output_type": "stream",
     "text": [
      "D:/docomo5G/PoC4/211207_メイク_jpg/機種A(カオラボ)/メイクなし/メイクなしA50\n",
      "end\n"
     ]
    }
   ],
   "source": [
    "import glob\n",
    "import os\n",
    "from PIL import Image\n",
    "\n",
    "dir = r\"D:\\docomo5G\\PoC4\\211207_メイク_jpg\\機種A(カオラボ)\\メイクなし\\メイクなしA50\"\n",
    "dir = dir.replace(\"\\\\\",\"/\")\n",
    "\n",
    "# pngファイル全部見る\n",
    "for file in glob.glob(dir + \"/**/*.png\", recursive=True):\n",
    "    new_file = file.replace(\".png\", \".jpg\")\n",
    "    img = Image.open(file)\n",
    "    img = img.convert(\"RGB\")\n",
    "    img.save(new_file, \"JPEG\", quality=95)\n",
    "    os.remove(file)\n",
    "print(\"end\")"
   ]
  }
 ],
 "metadata": {
  "kernelspec": {
   "display_name": "Python 3",
   "language": "python",
   "name": "python3"
  },
  "language_info": {
   "codemirror_mode": {
    "name": "ipython",
    "version": 3
   },
   "file_extension": ".py",
   "mimetype": "text/x-python",
   "name": "python",
   "nbconvert_exporter": "python",
   "pygments_lexer": "ipython3",
   "version": "3.6.8"
  }
 },
 "nbformat": 4,
 "nbformat_minor": 5
}
