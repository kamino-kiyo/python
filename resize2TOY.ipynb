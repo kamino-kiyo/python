{
 "cells": [
  {
   "cell_type": "code",
   "execution_count": 1,
   "id": "709714e0",
   "metadata": {},
   "outputs": [],
   "source": [
    "# Zoom画像を縦半分にトリミングした画像のサイズが機種ごとにバラバラなので\n",
    "# カオラボとネコカノのそれをキューナナのサイズに合わせてトリミング・リサイズする\n",
    "\n",
    "import glob\n",
    "from PIL import Image\n",
    "\n",
    "# キューナナのサイズ\n",
    "width, height = 1800, 3700"
   ]
  },
  {
   "cell_type": "code",
   "execution_count": 2,
   "id": "f0073c97",
   "metadata": {},
   "outputs": [
    {
     "name": "stdout",
     "output_type": "stream",
     "text": [
      "end\n"
     ]
    }
   ],
   "source": [
    "# カオラボは画像上が余りがちなので下に合わせてトリミングする 幅は同じなのでリサイズなし\n",
    "dir = (r\"D:\\docomo5G\\PoC4\\20220117_服\\機種A(カオラボ)\").replace(\"\\\\\", \"/\")\n",
    "lower = 4400\n",
    "upper = lower - height\n",
    "\n",
    "for i in glob.glob(dir + \"/**/*.jpg\", recursive=True):\n",
    "    img = Image.open(i).crop((0, upper, width, lower))\n",
    "    img.save(i)\n",
    "\n",
    "print(\"end\")"
   ]
  },
  {
   "cell_type": "code",
   "execution_count": 3,
   "id": "8e1edcd1",
   "metadata": {},
   "outputs": [
    {
     "name": "stdout",
     "output_type": "stream",
     "text": [
      "end\n"
     ]
    }
   ],
   "source": [
    "# ネコカノは幅も高さも違うので幅に合わせてリサイズ、上が詰まっているので上に合わせてトリミング\n",
    "dir = (r\"D:\\docomo5G\\PoC4\\20220117_服\\機種C(ネコカノ)\").replace(\"\\\\\", \"/\")\n",
    "resize_w = width\n",
    "resize_h = int(width * 4640 / 1950)\n",
    "\n",
    "if resize_h < height:\n",
    "    print(\"やる必要ないかも\")\n",
    "else:\n",
    "    for i in glob.glob(dir + \"/**/*.jpg\", recursive=True):\n",
    "        img = Image.open(i).resize((resize_w, resize_h), Image.LANCZOS).crop((0, resize_h - height, width, resize_h))\n",
    "        img.save(i)\n",
    "\n",
    "print(\"end\")"
   ]
  }
 ],
 "metadata": {
  "kernelspec": {
   "display_name": "Python 3",
   "language": "python",
   "name": "python3"
  },
  "language_info": {
   "codemirror_mode": {
    "name": "ipython",
    "version": 3
   },
   "file_extension": ".py",
   "mimetype": "text/x-python",
   "name": "python",
   "nbconvert_exporter": "python",
   "pygments_lexer": "ipython3",
   "version": "3.6.8"
  }
 },
 "nbformat": 4,
 "nbformat_minor": 5
}
