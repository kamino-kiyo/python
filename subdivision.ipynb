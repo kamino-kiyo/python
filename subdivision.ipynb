{
 "cells": [
  {
   "cell_type": "code",
   "execution_count": 23,
   "id": "2d83000e",
   "metadata": {},
   "outputs": [],
   "source": [
    "import glob\n",
    "import math\n",
    "import os\n",
    "import shutil"
   ]
  },
  {
   "cell_type": "code",
   "execution_count": 30,
   "id": "731213a8",
   "metadata": {},
   "outputs": [
    {
     "name": "stdout",
     "output_type": "stream",
     "text": [
      "end\n"
     ]
    }
   ],
   "source": [
    "# 1フォルダ内の大量ファイルをちょっとずつフォルダ分け\n",
    "dir = (r\"D:\\docomo5G\\PoC4\\20220117_服\\機種A(カオラボ)\\制服以外\\枚数\").replace(\"\\\\\", \"/\")\n",
    "\n",
    "# ファイル何個ずつにフォルダ分けするか\n",
    "divnum = 100\n",
    "\n",
    "# 分けたフォルダの接頭語\n",
    "prefix = \"A_私服_\"\n",
    "\n",
    "list = glob.glob(dir + \"/*.jpg\")\n",
    "count = math.ceil(len(list)/divnum)\n",
    "\n",
    "for i in range(count):\n",
    "    dst_dir = dir + \"/\" + prefix + str(i+1)\n",
    "    os.makedirs(dst_dir, exist_ok=True)\n",
    "\n",
    "    end = min(divnum*(i+1), len(list))\n",
    "    move_list = list[divnum*i:end]\n",
    "    for item in move_list:\n",
    "        shutil.move(item, dst_dir)\n",
    "\n",
    "print(\"end\")"
   ]
  },
  {
   "cell_type": "code",
   "execution_count": 26,
   "id": "1e1f2a29",
   "metadata": {},
   "outputs": [
    {
     "name": "stdout",
     "output_type": "stream",
     "text": [
      "end\n"
     ]
    }
   ],
   "source": [
    "# 間違えて移動させちゃったので戻す\n",
    "dir = (r\"D:\\docomo5G\\PoC4\\20220117_服\\機種C(ネコカノ)\\制服\").replace(\"\\\\\", \"/\")\n",
    "\n",
    "# フォルダのリスト\n",
    "list = glob.glob(dir + \"/*\")\n",
    "\n",
    "for d in list:\n",
    "    file_list = glob.glob(d + \"/*\")\n",
    "    for f in file_list:\n",
    "        shutil.move(f, dir)\n",
    "        \n",
    "print(\"end\")"
   ]
  }
 ],
 "metadata": {
  "kernelspec": {
   "display_name": "Python 3",
   "language": "python",
   "name": "python3"
  },
  "language_info": {
   "codemirror_mode": {
    "name": "ipython",
    "version": 3
   },
   "file_extension": ".py",
   "mimetype": "text/x-python",
   "name": "python",
   "nbconvert_exporter": "python",
   "pygments_lexer": "ipython3",
   "version": "3.6.8"
  }
 },
 "nbformat": 4,
 "nbformat_minor": 5
}
