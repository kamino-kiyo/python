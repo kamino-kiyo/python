{
 "cells": [
  {
   "cell_type": "code",
   "execution_count": 16,
   "id": "48c68740",
   "metadata": {},
   "outputs": [
    {
     "name": "stdout",
     "output_type": "stream",
     "text": [
      "end\n"
     ]
    }
   ],
   "source": [
    "# 指定フォルダ下のフォルダ内のファイルをそれぞれzip圧縮\n",
    "import glob\n",
    "import os\n",
    "import zipfile\n",
    "\n",
    "dir = (r\"D:\\docomo5G\\PoC4\\20220117_服\\機種A(カオラボ)\\制服以外\\枚数\").replace(\"\\\\\", \"/\")\n",
    "# zipはdirフォルダに追加する\n",
    "\n",
    "for d in glob.glob(dir + \"/*\"):\n",
    "    # フォルダと同名のzipファイル作る\n",
    "    basename = os.path.basename(d)\n",
    "    zip_name = dir + \"/\" + basename + \".zip\"\n",
    "    # すでにzipあったら消して作り直す\n",
    "    if os.path.isfile(zip_name):\n",
    "        os.remove(zip_name)\n",
    "\n",
    "    with zipfile.ZipFile(dir + \"/\" + basename + \".zip\", \"w\", compression=zipfile.ZIP_BZIP2) as new_zip:\n",
    "        for f in glob.glob(d + \"/*\"):\n",
    "            new_zip.write(f, arcname=os.path.basename(f))\n",
    "\n",
    "print(\"end\")"
   ]
  }
 ],
 "metadata": {
  "kernelspec": {
   "display_name": "Python 3",
   "language": "python",
   "name": "python3"
  },
  "language_info": {
   "codemirror_mode": {
    "name": "ipython",
    "version": 3
   },
   "file_extension": ".py",
   "mimetype": "text/x-python",
   "name": "python",
   "nbconvert_exporter": "python",
   "pygments_lexer": "ipython3",
   "version": "3.6.8"
  }
 },
 "nbformat": 4,
 "nbformat_minor": 5
}
